{
 "cells": [
  {
   "cell_type": "code",
   "execution_count": null,
   "metadata": {},
   "outputs": [],
   "source": [
    "# SweetViz 2.0 Demonstration \n",
    "# Author : Kopal Rastogi\n",
    "# Created : Jan-05-2021\n",
    "# Keywords : EDA, Data Visualization,Pandas\n",
    "# Assumptions : None"
   ]
  },
  {
   "cell_type": "code",
   "execution_count": null,
   "metadata": {},
   "outputs": [],
   "source": [
    "# Import Libraries\n",
    "print('Importing Libraries ... ',end='')\n",
    "import sweetviz as sv\n",
    "import pandas as pd\n",
    "print('Done')"
   ]
  },
  {
   "cell_type": "code",
   "execution_count": null,
   "metadata": {},
   "outputs": [],
   "source": [
    "#loading the data\n",
    "data=pd.read_csv('StudentsPerformance.csv')\n",
    "\n",
    "#Printing data insights\n",
    "print(data.info())\n",
    "\n",
    "#Printing few data samples\n",
    "print(data.head(5))"
   ]
  },
  {
   "cell_type": "code",
   "execution_count": null,
   "metadata": {},
   "outputs": [],
   "source": [
    "# Analyzing data\n",
    "report=sv.analyze(data)\n",
    "\n",
    "# Generating report\n",
    "report.show_html('eda_report.html')"
   ]
  },
  {
   "cell_type": "code",
   "execution_count": null,
   "metadata": {},
   "outputs": [],
   "source": [
    "# split the data into two datasets\n",
    "data1=data[0:400]\n",
    "data2=data[400:]"
   ]
  },
  {
   "cell_type": "code",
   "execution_count": null,
   "metadata": {
    "scrolled": true
   },
   "outputs": [],
   "source": [
    "print(data1.info())"
   ]
  },
  {
   "cell_type": "code",
   "execution_count": null,
   "metadata": {},
   "outputs": [],
   "source": [
    "print(data2.info())"
   ]
  },
  {
   "cell_type": "code",
   "execution_count": null,
   "metadata": {},
   "outputs": [],
   "source": [
    "#report_comp=sv.compare(data1,data2)\n",
    "#report_comp.show_html()"
   ]
  },
  {
   "cell_type": "code",
   "execution_count": null,
   "metadata": {},
   "outputs": [],
   "source": [
    "# Comparing the two datasets\n",
    "report_comp=sv.compare([data1,'DATA1'],[data2,'DATA2'])\n",
    "\n",
    "# Generating report\n",
    "report_comp.show_html('Compare_Results.html')"
   ]
  },
  {
   "cell_type": "code",
   "execution_count": null,
   "metadata": {},
   "outputs": [],
   "source": [
    "# Target Analysis\n",
    "report_comp=sv.compare(data1,data2,'math score')\n",
    "report_comp.show_html('Compare_Results.html')"
   ]
  },
  {
   "cell_type": "markdown",
   "metadata": {},
   "source": [
    "# Playing with Reports"
   ]
  },
  {
   "cell_type": "code",
   "execution_count": null,
   "metadata": {},
   "outputs": [],
   "source": [
    "report_comp.show_html(filepath='report.html',\n",
    "open_browser=True,\n",
    "layout='vertical',\n",
    "scale=0.7)"
   ]
  },
  {
   "cell_type": "code",
   "execution_count": null,
   "metadata": {},
   "outputs": [],
   "source": [
    "report_comp.show_notebook(w=None, \n",
    "                h=None, \n",
    "                scale=None,\n",
    "                layout='vertical',\n",
    "                filepath='E:\\sweetviz_report.html')"
   ]
  }
 ],
 "metadata": {
  "kernelspec": {
   "display_name": "Python 3",
   "language": "python",
   "name": "python3"
  },
  "language_info": {
   "codemirror_mode": {
    "name": "ipython",
    "version": 3
   },
   "file_extension": ".py",
   "mimetype": "text/x-python",
   "name": "python",
   "nbconvert_exporter": "python",
   "pygments_lexer": "ipython3",
   "version": "3.8.5"
  }
 },
 "nbformat": 4,
 "nbformat_minor": 4
}
